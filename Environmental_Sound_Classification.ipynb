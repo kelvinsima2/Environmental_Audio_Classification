{
  "nbformat": 4,
  "nbformat_minor": 0,
  "metadata": {
    "colab": {
      "provenance": [],
      "machine_shape": "hm",
      "authorship_tag": "ABX9TyOaYd9ZW3m2fiW17v9AO8r4",
      "include_colab_link": true
    },
    "kernelspec": {
      "name": "python3",
      "display_name": "Python 3"
    },
    "language_info": {
      "name": "python"
    },
    "gpuClass": "standard"
  },
  "cells": [
    {
      "cell_type": "markdown",
      "metadata": {
        "id": "view-in-github",
        "colab_type": "text"
      },
      "source": [
        "<a href=\"https://colab.research.google.com/github/kelvinsima2/Environmental_Audio_Classification/blob/main/Environmental_Sound_Classification.ipynb\" target=\"_parent\"><img src=\"https://colab.research.google.com/assets/colab-badge.svg\" alt=\"Open In Colab\"/></a>"
      ]
    },
    {
      "cell_type": "code",
      "execution_count": 1,
      "metadata": {
        "id": "NLd-sSrB163i",
        "colab": {
          "base_uri": "https://localhost:8080/"
        },
        "outputId": "135a34a0-e093-45f9-ca7e-99229bc6fd65"
      },
      "outputs": [
        {
          "output_type": "stream",
          "name": "stdout",
          "text": [
            "Mounted at /content/drive\n"
          ]
        }
      ],
      "source": [
        "from google.colab import drive\n",
        "drive.mount('/content/drive')"
      ]
    },
    {
      "cell_type": "code",
      "source": [
        "# This Python 3 environment comes with many helpful analytics libraries installed\n",
        "# It is defined by the kaggle/python Docker image: https://github.com/kaggle/docker-python\n",
        "# For example, here's several helpful packages to load\n",
        "\n",
        "import numpy as np # linear algebra\n",
        "import pandas as pd # data processing, CSV file I/O (e.g. pd.read_csv)\n",
        "\n",
        "# Input data files are available in the read-only \"../input/\" directory\n",
        "# For example, running this (by clicking run or pressing Shift+Enter) will list all files under the input directory\n",
        "\n",
        "import os\n",
        "# for dirname, _, filenames in os.walk('/content/drive/My Drive/Environmental Project/Audio/44100/'):\n",
        "#     for filename in filenames:\n",
        "#         print(os.path.join(dirname, filename))\n",
        "\n"
      ],
      "metadata": {
        "id": "nSYrUUnl-1ao"
      },
      "execution_count": 2,
      "outputs": []
    },
    {
      "cell_type": "code",
      "source": [
        "import matplotlib.pylab as plt\n",
        "import seaborn as sns\n",
        "\n",
        "from glob import glob\n",
        "\n",
        "import librosa\n",
        "import librosa.display\n",
        "import IPython.display as ipd\n",
        "\n",
        "from itertools import cycle\n",
        "\n",
        "sns.set_theme(style=\"white\", palette=None)\n",
        "color_pal = plt.rcParams[\"axes.prop_cycle\"].by_key()[\"color\"]\n",
        "color_cycle = cycle(plt.rcParams[\"axes.prop_cycle\"].by_key()[\"color\"])"
      ],
      "metadata": {
        "id": "14xXMGqg_ilS"
      },
      "execution_count": 3,
      "outputs": []
    },
    {
      "cell_type": "markdown",
      "source": [
        "# Converting Mel Spectograms Into Images"
      ],
      "metadata": {
        "id": "aYGL4Gsj_-Um"
      }
    },
    {
      "cell_type": "code",
      "source": [
        "import numpy as np\n",
        "import pandas as pd\n",
        "import matplotlib.pyplot as plt\n",
        "import seaborn as sns\n",
        "import soundfile as sf\n",
        "import os, random, librosa\n",
        "from tqdm.auto import tqdm\n",
        "from IPython import display\n",
        "import tensorflow as tf\n",
        "from tensorflow.keras import layers, models, utils, callbacks\n",
        "from keras.preprocessing.image import ImageDataGenerator\n",
        "sns.set_style('darkgrid')"
      ],
      "metadata": {
        "id": "VEZR4dcQ_oZl"
      },
      "execution_count": 4,
      "outputs": []
    },
    {
      "cell_type": "code",
      "source": [],
      "metadata": {
        "id": "uNWHsaXNABZ9"
      },
      "execution_count": null,
      "outputs": []
    },
    {
      "cell_type": "code",
      "source": [
        "def read_and_pad_sound_wave(filepath, audio_length=(44100*5)):\n",
        "    waveform, sr = sf.read(filepath)\n",
        "    zero_padding = np.zeros([audio_length - len(waveform)])\n",
        "    waveform = np.concatenate([waveform, zero_padding], 0)\n",
        "    return waveform, sr\n",
        "\n",
        "def sound_wave_to_mel_spectrogram(sound_wave, sample_rate, spec_h=128, spec_w=128, length=1):\n",
        "    NUM_MELS = spec_h\n",
        "    HOP_LENGTH = int(sample_rate * length / (spec_w - 1)) \n",
        "    mel_spec = librosa.feature.melspectrogram(y=sound_wave, sr=sample_rate, hop_length=HOP_LENGTH, n_mels=NUM_MELS)\n",
        "    mel_spec_db = librosa.amplitude_to_db(mel_spec, ref=np.max)\n",
        "    return mel_spec_db"
      ],
      "metadata": {
        "id": "Wz9iSfLYAQoa"
      },
      "execution_count": 5,
      "outputs": []
    },
    {
      "cell_type": "code",
      "source": [
        "\n",
        "# tf.get_logger().setLevel('INFO')"
      ],
      "metadata": {
        "id": "ivU1VKvVASol"
      },
      "execution_count": null,
      "outputs": []
    },
    {
      "cell_type": "code",
      "source": [
        "input_dir = '/content/drive/My Drive/Environmental Project/Audio/44100/'\n",
        "output_dir = '/content/drive/My Drive/Environmental Project/Output/'"
      ],
      "metadata": {
        "id": "G92D-zQAAVQF"
      },
      "execution_count": 6,
      "outputs": []
    },
    {
      "cell_type": "code",
      "source": [
        "parent_list = os.listdir(input_dir)\n",
        "for i in range(10):\n",
        "    print(parent_list[i])"
      ],
      "metadata": {
        "colab": {
          "base_uri": "https://localhost:8080/"
        },
        "id": "61E7o5A1BD0x",
        "outputId": "f6ea4e4e-c42b-4dce-a4b2-c49cb308d7bf"
      },
      "execution_count": 7,
      "outputs": [
        {
          "output_type": "stream",
          "name": "stdout",
          "text": [
            "3-152020-B-36.wav\n",
            "3-152997-A-26.wav\n",
            "3-154439-A-17.wav\n",
            "3-154378-A-30.wav\n",
            "3-152039-A-3.wav\n",
            "3-151269-A-35.wav\n",
            "3-154758-A-44.wav\n",
            "3-151273-A-35.wav\n",
            "3-151255-A-28.wav\n",
            "3-152912-A-26.wav\n"
          ]
        }
      ]
    },
    {
      "cell_type": "code",
      "source": [
        "SIZE = 256\n",
        "BATCH_SIZE = 32\n",
        "channels = 3\n",
        "kernel = 4\n",
        "stride = 1\n",
        "pool = 2\n",
        "# for filename in tqdm(os.listdir(input_dir)):\n",
        "#     if \"wav\" in filename:\n",
        "#         file_path = os.path.join(input_dir, filename)\n",
        "#         target_dir = 'class_' + filename[:-4].split('-')[3]             \n",
        "#         dist_dir = os.path.join(output_dir, target_dir)\n",
        "#         file_dist_path = os.path.join(dist_dir, filename)\n",
        "#         if not os.path.exists(file_dist_path + '.png'):\n",
        "#             if not os.path.exists(dist_dir):\n",
        "#                 os.mkdir(dist_dir)                \n",
        "#             S_db_mel = sound_wave_to_mel_spectrogram(*read_and_pad_sound_wave(file_path))\n",
        "#             fig, ax = plt.subplots(figsize=(10, 5))\n",
        "#             # Plot the mel spectogram\n",
        "#             img = librosa.display.specshow(S_db_mel,\n",
        "#                               x_axis='time',\n",
        "#                               y_axis='log',\n",
        "#                               ax=ax)\n",
        "#             plt.axis('off')\n",
        "#             fig.savefig(f'{file_dist_path}.png', dpi=fig.dpi)\n",
        "#             plt.close()"
      ],
      "metadata": {
        "id": "EC5RworIBGjE"
      },
      "execution_count": 8,
      "outputs": []
    },
    {
      "cell_type": "code",
      "source": [
        "train_dataset = tf.keras.preprocessing.image_dataset_from_directory(\n",
        "                                             batch_size=BATCH_SIZE,\n",
        "                                             validation_split=0.2,\n",
        "                                             directory=output_dir,\n",
        "                                             shuffle=True,\n",
        "                                             color_mode='rgb',\n",
        "                                             image_size=(SIZE, SIZE),\n",
        "                                             subset=\"training\",\n",
        "                                             seed=0,\n",
        "                                             label_mode = 'categorical');\n",
        "\n",
        "validation_dataset = tf.keras.preprocessing.image_dataset_from_directory(\n",
        "                                             batch_size=BATCH_SIZE,\n",
        "                                             validation_split=0.2,\n",
        "                                             directory=output_dir,\n",
        "                                             shuffle=True,\n",
        "                                             color_mode='rgb',\n",
        "                                             image_size=(SIZE, SIZE),\n",
        "                                             subset=\"validation\",\n",
        "                                             seed=0,\n",
        "                                             label_mode = 'categorical');"
      ],
      "metadata": {
        "colab": {
          "base_uri": "https://localhost:8080/"
        },
        "id": "-haDV9dkBRn8",
        "outputId": "08735e89-b2df-4e2a-d6a0-bebf1c80aa75"
      },
      "execution_count": 9,
      "outputs": [
        {
          "output_type": "stream",
          "name": "stdout",
          "text": [
            "Found 2000 files belonging to 50 classes.\n",
            "Using 1600 files for training.\n",
            "Found 2000 files belonging to 50 classes.\n",
            "Using 400 files for validation.\n"
          ]
        }
      ]
    },
    {
      "cell_type": "code",
      "source": [
        "# Obtain class names from training data. It is worth noting that they are presented in alphabetical order. This is useful during model testing.\n",
        "class_names = train_dataset.class_names"
      ],
      "metadata": {
        "id": "1MnpR_104_nY"
      },
      "execution_count": 10,
      "outputs": []
    },
    {
      "cell_type": "code",
      "source": [
        "# Display shape of training set\n",
        "train_dataset.element_spec"
      ],
      "metadata": {
        "colab": {
          "base_uri": "https://localhost:8080/"
        },
        "id": "7wnGfDGe5GvC",
        "outputId": "a278ef27-341f-4097-89b4-0507e121a187"
      },
      "execution_count": 12,
      "outputs": [
        {
          "output_type": "execute_result",
          "data": {
            "text/plain": [
              "(TensorSpec(shape=(None, 256, 256, 3), dtype=tf.float32, name=None),\n",
              " TensorSpec(shape=(None, 50), dtype=tf.float32, name=None))"
            ]
          },
          "metadata": {},
          "execution_count": 12
        }
      ]
    },
    {
      "cell_type": "code",
      "source": [
        "val_batches = tf.data.experimental.cardinality(validation_dataset)\n",
        "test_dataset = validation_dataset.take(val_batches // 5)\n",
        "validation_dataset = validation_dataset.skip(val_batches // 5)"
      ],
      "metadata": {
        "id": "3CptPi8BGfkX"
      },
      "execution_count": 11,
      "outputs": []
    },
    {
      "cell_type": "code",
      "source": [
        "print('Number of validation batches: %d' % tf.data.experimental.cardinality(validation_dataset))\n",
        "print('Number of test batches: %d' % tf.data.experimental.cardinality(test_dataset))"
      ],
      "metadata": {
        "colab": {
          "base_uri": "https://localhost:8080/"
        },
        "id": "kmJna-P4GkYO",
        "outputId": "71e666f7-a550-4994-cc52-396379a89cf3"
      },
      "execution_count": 13,
      "outputs": [
        {
          "output_type": "stream",
          "name": "stdout",
          "text": [
            "Number of validation batches: 11\n",
            "Number of test batches: 2\n"
          ]
        }
      ]
    },
    {
      "cell_type": "code",
      "source": [
        "AUTOTUNE = tf.data.AUTOTUNE\n",
        "\n",
        "train_dataset = train_dataset.prefetch(buffer_size=AUTOTUNE)\n",
        "validation_dataset = validation_dataset.prefetch(buffer_size=AUTOTUNE)\n",
        "test_dataset = test_dataset.prefetch(buffer_size=AUTOTUNE)"
      ],
      "metadata": {
        "id": "6k-aHNttGmWe"
      },
      "execution_count": 14,
      "outputs": []
    },
    {
      "cell_type": "markdown",
      "source": [
        "# Model Development and Evaluation"
      ],
      "metadata": {
        "id": "5zODzEGj5piv"
      }
    },
    {
      "cell_type": "code",
      "source": [
        "# Use the resnet_v2 preprocessing function to rescale pixel values\n",
        "preprocess_input = tf.keras.applications.inception_v3.preprocess_input"
      ],
      "metadata": {
        "id": "jxmwW0fS511s"
      },
      "execution_count": 15,
      "outputs": []
    },
    {
      "cell_type": "code",
      "source": [
        "# Create the base model from the pre-trained model MobileNet V2\n",
        "IMG_SIZE = (256, 256)\n",
        "IMG_SHAPE = IMG_SIZE + (3,)\n",
        "base_model = tf.keras.applications.inception_v3.InceptionV3(input_shape=IMG_SHAPE,\n",
        "                                               include_top=False,\n",
        "                                               weights='imagenet')\n",
        "\n",
        "# For freezing the layer we make use of layer.trainable = False\n",
        "# means that its internal state will not change during training.\n",
        "# model's trainable weights will not be updated during fit(),\n",
        "# and also its state updates will not run.\n",
        "base_model.trainable=False\n",
        "\n",
        "# Create Tensorflow functional model\n",
        "inputs = tf.keras.Input(shape=IMG_SHAPE)\n",
        "x = preprocess_input(inputs)\n",
        "x = base_model(x, training=False)\n",
        "x = tf.keras.layers.BatchNormalization(renorm=True)(x)\n",
        "x = tf.keras.layers.GlobalAveragePooling2D()(x)\n",
        "#x = tf.keras.layers.Dense(512, activation='relu')(x)\n",
        "#x = tf.keras.layers.Dense(256, activation='relu')(x)\n",
        "x = tf.keras.layers.Dropout(0.5)(x)\n",
        "x = tf.keras.layers.Dense(128, activation='relu')(x)\n",
        "# The output layer has 90 outputs representing the number of classes in the image dataset.\n",
        "outputs = tf.keras.layers.Dense(50, activation='softmax')(x)\n",
        "model = tf.keras.Model(inputs, outputs)"
      ],
      "metadata": {
        "id": "BdiD2xknHK_1"
      },
      "execution_count": 32,
      "outputs": []
    },
    {
      "cell_type": "code",
      "source": [
        "# categorical cross entropy is taken since its used as a loss function for\n",
        "# multi-class classification problems where there are two or more output labels.\n",
        "# using Adam optimizer for better performance\n",
        "model.compile(optimizer='Adam',loss='categorical_crossentropy',metrics=['accuracy'])"
      ],
      "metadata": {
        "id": "PDg98vPV8cpw"
      },
      "execution_count": 33,
      "outputs": []
    },
    {
      "cell_type": "code",
      "source": [
        "# Get model summary\n",
        "model.summary()"
      ],
      "metadata": {
        "colab": {
          "base_uri": "https://localhost:8080/"
        },
        "id": "oSoH-tYZHi91",
        "outputId": "5ca680c8-3afe-4c27-c831-2bef578357d4"
      },
      "execution_count": 34,
      "outputs": [
        {
          "output_type": "stream",
          "name": "stdout",
          "text": [
            "Model: \"model_3\"\n",
            "_________________________________________________________________\n",
            " Layer (type)                Output Shape              Param #   \n",
            "=================================================================\n",
            " input_9 (InputLayer)        [(None, 256, 256, 3)]     0         \n",
            "                                                                 \n",
            " tf.math.truediv_3 (TFOpLamb  (None, 256, 256, 3)      0         \n",
            " da)                                                             \n",
            "                                                                 \n",
            " tf.math.subtract_3 (TFOpLam  (None, 256, 256, 3)      0         \n",
            " bda)                                                            \n",
            "                                                                 \n",
            " inception_v3 (Functional)   (None, 6, 6, 2048)        21802784  \n",
            "                                                                 \n",
            " batch_normalization_473 (Ba  (None, 6, 6, 2048)       14336     \n",
            " tchNormalization)                                               \n",
            "                                                                 \n",
            " global_average_pooling2d_3   (None, 2048)             0         \n",
            " (GlobalAveragePooling2D)                                        \n",
            "                                                                 \n",
            " dropout_3 (Dropout)         (None, 2048)              0         \n",
            "                                                                 \n",
            " dense_6 (Dense)             (None, 128)               262272    \n",
            "                                                                 \n",
            " dense_7 (Dense)             (None, 50)                6450      \n",
            "                                                                 \n",
            "=================================================================\n",
            "Total params: 22,085,842\n",
            "Trainable params: 272,818\n",
            "Non-trainable params: 21,813,024\n",
            "_________________________________________________________________\n"
          ]
        }
      ]
    },
    {
      "cell_type": "code",
      "source": [
        "# early stopping call back\n",
        "early = tf.keras.callbacks.EarlyStopping( patience=10,\n",
        "                                          min_delta=0.001,\n",
        "                                          restore_best_weights=True)"
      ],
      "metadata": {
        "id": "Wr17WTRP8sZX"
      },
      "execution_count": 35,
      "outputs": []
    },
    {
      "cell_type": "code",
      "source": [
        "# Train model using GPU\n",
        "with tf.device('/device:GPU:0'):\n",
        "  history = model.fit(train_dataset,\n",
        "                    epochs=10,\n",
        "                    validation_data=validation_dataset,\n",
        "                    callbacks = [early])"
      ],
      "metadata": {
        "colab": {
          "base_uri": "https://localhost:8080/"
        },
        "id": "4ikC4U4r8uG_",
        "outputId": "80f1d1bc-b0d0-4fa9-999a-c50a2a2c3fb6"
      },
      "execution_count": 36,
      "outputs": [
        {
          "output_type": "stream",
          "name": "stdout",
          "text": [
            "Epoch 1/10\n",
            "50/50 [==============================] - 14s 157ms/step - loss: 3.7587 - accuracy: 0.0769 - val_loss: 3.2145 - val_accuracy: 0.1815\n",
            "Epoch 2/10\n",
            "50/50 [==============================] - 7s 132ms/step - loss: 2.6747 - accuracy: 0.2994 - val_loss: 2.3707 - val_accuracy: 0.3631\n",
            "Epoch 3/10\n",
            "50/50 [==============================] - 7s 134ms/step - loss: 1.8376 - accuracy: 0.5075 - val_loss: 2.0086 - val_accuracy: 0.4643\n",
            "Epoch 4/10\n",
            "50/50 [==============================] - 7s 128ms/step - loss: 1.3078 - accuracy: 0.6438 - val_loss: 1.8428 - val_accuracy: 0.4940\n",
            "Epoch 5/10\n",
            "50/50 [==============================] - 7s 134ms/step - loss: 0.9368 - accuracy: 0.7475 - val_loss: 1.8501 - val_accuracy: 0.5000\n",
            "Epoch 6/10\n",
            "50/50 [==============================] - 7s 131ms/step - loss: 0.6631 - accuracy: 0.8256 - val_loss: 1.6759 - val_accuracy: 0.5685\n",
            "Epoch 7/10\n",
            "50/50 [==============================] - 7s 136ms/step - loss: 0.4626 - accuracy: 0.8900 - val_loss: 1.6715 - val_accuracy: 0.5476\n",
            "Epoch 8/10\n",
            "50/50 [==============================] - 7s 129ms/step - loss: 0.3490 - accuracy: 0.9219 - val_loss: 1.6649 - val_accuracy: 0.5655\n",
            "Epoch 9/10\n",
            "50/50 [==============================] - 7s 136ms/step - loss: 0.2685 - accuracy: 0.9431 - val_loss: 1.6398 - val_accuracy: 0.5804\n",
            "Epoch 10/10\n",
            "50/50 [==============================] - 7s 126ms/step - loss: 0.2075 - accuracy: 0.9631 - val_loss: 1.7815 - val_accuracy: 0.5446\n"
          ]
        }
      ]
    },
    {
      "cell_type": "code",
      "source": [
        "# Plot accuracy and loss graphs\n",
        "acc = history.history['accuracy']\n",
        "val_acc = history.history['val_accuracy']\n",
        "\n",
        "loss = history.history['loss']\n",
        "val_loss = history.history['val_loss']\n",
        "\n",
        "plt.figure(figsize=(8, 8))\n",
        "plt.subplot(2, 1, 1)\n",
        "plt.plot(acc, label='Training Accuracy')\n",
        "plt.plot(val_acc, label='Validation Accuracy')\n",
        "plt.legend(loc='lower right')\n",
        "plt.ylabel('Accuracy')\n",
        "plt.ylim([min(plt.ylim()),1])\n",
        "plt.title('Training and Validation Accuracy')\n",
        "\n",
        "plt.subplot(2, 1, 2)\n",
        "plt.plot(loss, label='Training Loss')\n",
        "plt.plot(val_loss, label='Validation Loss')\n",
        "plt.legend(loc='upper right')\n",
        "plt.ylabel('Cross Entropy')\n",
        "plt.ylim([0,3.0])\n",
        "plt.title('Training and Validation Loss')\n",
        "plt.xlabel('epoch')\n",
        "plt.show()"
      ],
      "metadata": {
        "colab": {
          "base_uri": "https://localhost:8080/",
          "height": 518
        },
        "id": "vt8HAivECCd-",
        "outputId": "28ab64a6-8bd9-4978-8a3e-d54c485e88a6"
      },
      "execution_count": 39,
      "outputs": [
        {
          "output_type": "display_data",
          "data": {
            "text/plain": [
              "<Figure size 576x576 with 2 Axes>"
            ],
            "image/png": "[encoded data removed]"
          },
          "metadata": {}
        }
      ]
    },
    {
      "cell_type": "code",
      "source": [
        "# Evaluate model on test set\n",
        "test_loss, test_accuracy = model.evaluate(test_dataset)"
      ],
      "metadata": {
        "colab": {
          "base_uri": "https://localhost:8080/"
        },
        "id": "v0BuhUKVG0Ri",
        "outputId": "5b938850-6d83-48ad-ddcb-cc723887ff20"
      },
      "execution_count": 40,
      "outputs": [
        {
          "output_type": "stream",
          "name": "stdout",
          "text": [
            "2/2 [==============================] - 1s 133ms/step - loss: 1.6570 - accuracy: 0.5469\n"
          ]
        }
      ]
    },
    {
      "cell_type": "code",
      "source": [
        "# Let's take a look to see how many layers are in the base model\n",
        "print(\"Number of layers in the base model: \", len(base_model.layers))\n",
        "\n",
        "# Fine-tune from this layer onwards\n",
        "fine_tune_at = 70\n",
        "\n",
        "# Freeze all the layers before the `fine_tune_at` layer\n",
        "for layer in base_model.layers[:fine_tune_at]:\n",
        "  layer.trainable = False"
      ],
      "metadata": {
        "colab": {
          "base_uri": "https://localhost:8080/"
        },
        "id": "6927AAb7JnOK",
        "outputId": "733d78d6-5c24-4e01-d95f-e6d8dd4c3749"
      },
      "execution_count": null,
      "outputs": [
        {
          "output_type": "stream",
          "name": "stdout",
          "text": [
            "Number of layers in the base model:  154\n"
          ]
        }
      ]
    },
    {
      "cell_type": "code",
      "source": [
        "model.compile(loss=tf.keras.losses.BinaryCrossentropy(from_logits=True),\n",
        "              optimizer = tf.keras.optimizers.RMSprop(learning_rate=base_learning_rate/10),\n",
        "              metrics=['accuracy'])"
      ],
      "metadata": {
        "id": "K1odqC50JqJS"
      },
      "execution_count": null,
      "outputs": []
    },
    {
      "cell_type": "code",
      "source": [
        "model.summary()"
      ],
      "metadata": {
        "colab": {
          "base_uri": "https://localhost:8080/"
        },
        "id": "1rR6BKgzJs8a",
        "outputId": "b2f6dc78-f726-4797-cb29-a51e06ce5af9"
      },
      "execution_count": null,
      "outputs": [
        {
          "output_type": "stream",
          "name": "stdout",
          "text": [
            "Model: \"model\"\n",
            "_________________________________________________________________\n",
            " Layer (type)                Output Shape              Param #   \n",
            "=================================================================\n",
            " input_3 (InputLayer)        [(None, 128, 128, 3)]     0         \n",
            "                                                                 \n",
            " tf.math.truediv (TFOpLambda  (None, 128, 128, 3)      0         \n",
            " )                                                               \n",
            "                                                                 \n",
            " tf.math.subtract (TFOpLambd  (None, 128, 128, 3)      0         \n",
            " a)                                                              \n",
            "                                                                 \n",
            " mobilenetv2_1.00_128 (Funct  (None, 4, 4, 1280)       2257984   \n",
            " ional)                                                          \n",
            "                                                                 \n",
            " global_average_pooling2d (G  (None, 1280)             0         \n",
            " lobalAveragePooling2D)                                          \n",
            "                                                                 \n",
            " dropout (Dropout)           (None, 1280)              0         \n",
            "                                                                 \n",
            " dense (Dense)               (None, 1)                 1281      \n",
            "                                                                 \n",
            "=================================================================\n",
            "Total params: 2,259,265\n",
            "Trainable params: 1,862,721\n",
            "Non-trainable params: 396,544\n",
            "_________________________________________________________________\n"
          ]
        }
      ]
    },
    {
      "cell_type": "code",
      "source": [
        "len(model.trainable_variables)"
      ],
      "metadata": {
        "colab": {
          "base_uri": "https://localhost:8080/"
        },
        "id": "4QAILuqqJuiC",
        "outputId": "b9e14811-a25a-4c99-fef3-f52afa34a2d8"
      },
      "execution_count": null,
      "outputs": [
        {
          "output_type": "execute_result",
          "data": {
            "text/plain": [
              "56"
            ]
          },
          "metadata": {},
          "execution_count": 47
        }
      ]
    },
    {
      "cell_type": "code",
      "source": [
        "fine_tune_epochs = 10\n",
        "total_epochs =  initial_epochs + fine_tune_epochs\n",
        "with tf.device('/device:GPU:0'):\n",
        "  history_fine = model.fit(train_dataset,\n",
        "                         epochs=total_epochs,\n",
        "                         initial_epoch=history.epoch[-1],\n",
        "                         validation_data=validation_dataset)"
      ],
      "metadata": {
        "colab": {
          "base_uri": "https://localhost:8080/"
        },
        "id": "ZSeMDoaiJwRS",
        "outputId": "d98d18f0-0824-46f1-d16a-806511b1074b"
      },
      "execution_count": null,
      "outputs": [
        {
          "output_type": "stream",
          "name": "stdout",
          "text": [
            "Epoch 10/20\n",
            "42/42 [==============================] - 12s 99ms/step - loss: -7873.9834 - accuracy: 0.0179 - val_loss: -7505.7676 - val_accuracy: 0.0111\n",
            "Epoch 11/20\n",
            "42/42 [==============================] - 4s 91ms/step - loss: -7929.1304 - accuracy: 0.0179 - val_loss: -8002.8379 - val_accuracy: 0.0111\n",
            "Epoch 12/20\n",
            "42/42 [==============================] - 4s 79ms/step - loss: -7990.0762 - accuracy: 0.0179 - val_loss: -7900.2749 - val_accuracy: 0.0111\n",
            "Epoch 13/20\n",
            "42/42 [==============================] - 4s 78ms/step - loss: -8047.4883 - accuracy: 0.0179 - val_loss: -7742.1743 - val_accuracy: 0.0074\n",
            "Epoch 14/20\n",
            "42/42 [==============================] - 5s 98ms/step - loss: -8101.7373 - accuracy: 0.0179 - val_loss: -7768.0063 - val_accuracy: 0.0111\n",
            "Epoch 15/20\n",
            "42/42 [==============================] - 4s 80ms/step - loss: -8160.9756 - accuracy: 0.0179 - val_loss: -8066.9961 - val_accuracy: 0.0111\n",
            "Epoch 16/20\n",
            "42/42 [==============================] - 4s 79ms/step - loss: -8241.6709 - accuracy: 0.0179 - val_loss: -7962.1270 - val_accuracy: 0.0111\n",
            "Epoch 17/20\n",
            "42/42 [==============================] - 4s 89ms/step - loss: -8291.1787 - accuracy: 0.0179 - val_loss: -8337.5537 - val_accuracy: 0.0074\n",
            "Epoch 18/20\n",
            "42/42 [==============================] - 4s 79ms/step - loss: -8349.9414 - accuracy: 0.0179 - val_loss: -8360.3301 - val_accuracy: 0.0074\n",
            "Epoch 19/20\n",
            "42/42 [==============================] - 4s 79ms/step - loss: -8402.8770 - accuracy: 0.0179 - val_loss: -8502.0850 - val_accuracy: 0.0074\n",
            "Epoch 20/20\n",
            "42/42 [==============================] - 4s 82ms/step - loss: -8474.5391 - accuracy: 0.0179 - val_loss: -8169.8315 - val_accuracy: 0.0111\n"
          ]
        }
      ]
    }
  ]
}