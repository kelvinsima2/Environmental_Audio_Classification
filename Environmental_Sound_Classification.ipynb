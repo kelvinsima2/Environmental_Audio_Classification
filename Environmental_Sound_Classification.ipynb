{
  "nbformat": 4,
  "nbformat_minor": 0,
  "metadata": {
    "colab": {
      "provenance": [],
      "machine_shape": "hm",
      "authorship_tag": "ABX9TyM5qso1jhRjAXEvHSNdR7N7",
      "include_colab_link": true
    },
    "kernelspec": {
      "name": "python3",
      "display_name": "Python 3"
    },
    "language_info": {
      "name": "python"
    },
    "gpuClass": "premium",
    "accelerator": "GPU",
    "widgets": {
      "application/vnd.jupyter.widget-state+json": {
        "98f9d88e67d647e699d122095deedf4b": {
          "model_module": "@jupyter-widgets/controls",
          "model_name": "HBoxModel",
          "model_module_version": "1.5.0",
          "state": {
            "_dom_classes": [],
            "_model_module": "@jupyter-widgets/controls",
            "_model_module_version": "1.5.0",
            "_model_name": "HBoxModel",
            "_view_count": null,
            "_view_module": "@jupyter-widgets/controls",
            "_view_module_version": "1.5.0",
            "_view_name": "HBoxView",
            "box_style": "",
            "children": [
              "IPY_MODEL_4f715522e9644e5f982ff6de4ac09ca7",
              "IPY_MODEL_4b484fb16c4040c08b65afdb89316fbc",
              "IPY_MODEL_2ab2767b78474c75b33c66c030e4ab88"
            ],
            "layout": "IPY_MODEL_11d705432cd0425f8e0c068b7bb39bfa"
          }
        },
        "4f715522e9644e5f982ff6de4ac09ca7": {
          "model_module": "@jupyter-widgets/controls",
          "model_name": "HTMLModel",
          "model_module_version": "1.5.0",
          "state": {
            "_dom_classes": [],
            "_model_module": "@jupyter-widgets/controls",
            "_model_module_version": "1.5.0",
            "_model_name": "HTMLModel",
            "_view_count": null,
            "_view_module": "@jupyter-widgets/controls",
            "_view_module_version": "1.5.0",
            "_view_name": "HTMLView",
            "description": "",
            "description_tooltip": null,
            "layout": "IPY_MODEL_81761c0aaf064bcaa8fcd0b6db855402",
            "placeholder": "​",
            "style": "IPY_MODEL_f48c7b66c04c4b59884313dccbdb06f3",
            "value": "100%"
          }
        },
        "4b484fb16c4040c08b65afdb89316fbc": {
          "model_module": "@jupyter-widgets/controls",
          "model_name": "FloatProgressModel",
          "model_module_version": "1.5.0",
          "state": {
            "_dom_classes": [],
            "_model_module": "@jupyter-widgets/controls",
            "_model_module_version": "1.5.0",
            "_model_name": "FloatProgressModel",
            "_view_count": null,
            "_view_module": "@jupyter-widgets/controls",
            "_view_module_version": "1.5.0",
            "_view_name": "ProgressView",
            "bar_style": "success",
            "description": "",
            "description_tooltip": null,
            "layout": "IPY_MODEL_abedb7d214e547718a9cd471c2919324",
            "max": 2000,
            "min": 0,
            "orientation": "horizontal",
            "style": "IPY_MODEL_27010c5e03d64995aef404e5d962a071",
            "value": 2000
          }
        },
        "2ab2767b78474c75b33c66c030e4ab88": {
          "model_module": "@jupyter-widgets/controls",
          "model_name": "HTMLModel",
          "model_module_version": "1.5.0",
          "state": {
            "_dom_classes": [],
            "_model_module": "@jupyter-widgets/controls",
            "_model_module_version": "1.5.0",
            "_model_name": "HTMLModel",
            "_view_count": null,
            "_view_module": "@jupyter-widgets/controls",
            "_view_module_version": "1.5.0",
            "_view_name": "HTMLView",
            "description": "",
            "description_tooltip": null,
            "layout": "IPY_MODEL_7ae5e6d0c3d6419da1abcd3f5eed2176",
            "placeholder": "​",
            "style": "IPY_MODEL_3ddedea4e8924700aff98aa1f7e8a15c",
            "value": " 2000/2000 [00:05&lt;00:00, 1575.87it/s]"
          }
        },
        "11d705432cd0425f8e0c068b7bb39bfa": {
          "model_module": "@jupyter-widgets/base",
          "model_name": "LayoutModel",
          "model_module_version": "1.2.0",
          "state": {
            "_model_module": "@jupyter-widgets/base",
            "_model_module_version": "1.2.0",
            "_model_name": "LayoutModel",
            "_view_count": null,
            "_view_module": "@jupyter-widgets/base",
            "_view_module_version": "1.2.0",
            "_view_name": "LayoutView",
            "align_content": null,
            "align_items": null,
            "align_self": null,
            "border": null,
            "bottom": null,
            "display": null,
            "flex": null,
            "flex_flow": null,
            "grid_area": null,
            "grid_auto_columns": null,
            "grid_auto_flow": null,
            "grid_auto_rows": null,
            "grid_column": null,
            "grid_gap": null,
            "grid_row": null,
            "grid_template_areas": null,
            "grid_template_columns": null,
            "grid_template_rows": null,
            "height": null,
            "justify_content": null,
            "justify_items": null,
            "left": null,
            "margin": null,
            "max_height": null,
            "max_width": null,
            "min_height": null,
            "min_width": null,
            "object_fit": null,
            "object_position": null,
            "order": null,
            "overflow": null,
            "overflow_x": null,
            "overflow_y": null,
            "padding": null,
            "right": null,
            "top": null,
            "visibility": null,
            "width": null
          }
        },
        "81761c0aaf064bcaa8fcd0b6db855402": {
          "model_module": "@jupyter-widgets/base",
          "model_name": "LayoutModel",
          "model_module_version": "1.2.0",
          "state": {
            "_model_module": "@jupyter-widgets/base",
            "_model_module_version": "1.2.0",
            "_model_name": "LayoutModel",
            "_view_count": null,
            "_view_module": "@jupyter-widgets/base",
            "_view_module_version": "1.2.0",
            "_view_name": "LayoutView",
            "align_content": null,
            "align_items": null,
            "align_self": null,
            "border": null,
            "bottom": null,
            "display": null,
            "flex": null,
            "flex_flow": null,
            "grid_area": null,
            "grid_auto_columns": null,
            "grid_auto_flow": null,
            "grid_auto_rows": null,
            "grid_column": null,
            "grid_gap": null,
            "grid_row": null,
            "grid_template_areas": null,
            "grid_template_columns": null,
            "grid_template_rows": null,
            "height": null,
            "justify_content": null,
            "justify_items": null,
            "left": null,
            "margin": null,
            "max_height": null,
            "max_width": null,
            "min_height": null,
            "min_width": null,
            "object_fit": null,
            "object_position": null,
            "order": null,
            "overflow": null,
            "overflow_x": null,
            "overflow_y": null,
            "padding": null,
            "right": null,
            "top": null,
            "visibility": null,
            "width": null
          }
        },
        "f48c7b66c04c4b59884313dccbdb06f3": {
          "model_module": "@jupyter-widgets/controls",
          "model_name": "DescriptionStyleModel",
          "model_module_version": "1.5.0",
          "state": {
            "_model_module": "@jupyter-widgets/controls",
            "_model_module_version": "1.5.0",
            "_model_name": "DescriptionStyleModel",
            "_view_count": null,
            "_view_module": "@jupyter-widgets/base",
            "_view_module_version": "1.2.0",
            "_view_name": "StyleView",
            "description_width": ""
          }
        },
        "abedb7d214e547718a9cd471c2919324": {
          "model_module": "@jupyter-widgets/base",
          "model_name": "LayoutModel",
          "model_module_version": "1.2.0",
          "state": {
            "_model_module": "@jupyter-widgets/base",
            "_model_module_version": "1.2.0",
            "_model_name": "LayoutModel",
            "_view_count": null,
            "_view_module": "@jupyter-widgets/base",
            "_view_module_version": "1.2.0",
            "_view_name": "LayoutView",
            "align_content": null,
            "align_items": null,
            "align_self": null,
            "border": null,
            "bottom": null,
            "display": null,
            "flex": null,
            "flex_flow": null,
            "grid_area": null,
            "grid_auto_columns": null,
            "grid_auto_flow": null,
            "grid_auto_rows": null,
            "grid_column": null,
            "grid_gap": null,
            "grid_row": null,
            "grid_template_areas": null,
            "grid_template_columns": null,
            "grid_template_rows": null,
            "height": null,
            "justify_content": null,
            "justify_items": null,
            "left": null,
            "margin": null,
            "max_height": null,
            "max_width": null,
            "min_height": null,
            "min_width": null,
            "object_fit": null,
            "object_position": null,
            "order": null,
            "overflow": null,
            "overflow_x": null,
            "overflow_y": null,
            "padding": null,
            "right": null,
            "top": null,
            "visibility": null,
            "width": null
          }
        },
        "27010c5e03d64995aef404e5d962a071": {
          "model_module": "@jupyter-widgets/controls",
          "model_name": "ProgressStyleModel",
          "model_module_version": "1.5.0",
          "state": {
            "_model_module": "@jupyter-widgets/controls",
            "_model_module_version": "1.5.0",
            "_model_name": "ProgressStyleModel",
            "_view_count": null,
            "_view_module": "@jupyter-widgets/base",
            "_view_module_version": "1.2.0",
            "_view_name": "StyleView",
            "bar_color": null,
            "description_width": ""
          }
        },
        "7ae5e6d0c3d6419da1abcd3f5eed2176": {
          "model_module": "@jupyter-widgets/base",
          "model_name": "LayoutModel",
          "model_module_version": "1.2.0",
          "state": {
            "_model_module": "@jupyter-widgets/base",
            "_model_module_version": "1.2.0",
            "_model_name": "LayoutModel",
            "_view_count": null,
            "_view_module": "@jupyter-widgets/base",
            "_view_module_version": "1.2.0",
            "_view_name": "LayoutView",
            "align_content": null,
            "align_items": null,
            "align_self": null,
            "border": null,
            "bottom": null,
            "display": null,
            "flex": null,
            "flex_flow": null,
            "grid_area": null,
            "grid_auto_columns": null,
            "grid_auto_flow": null,
            "grid_auto_rows": null,
            "grid_column": null,
            "grid_gap": null,
            "grid_row": null,
            "grid_template_areas": null,
            "grid_template_columns": null,
            "grid_template_rows": null,
            "height": null,
            "justify_content": null,
            "justify_items": null,
            "left": null,
            "margin": null,
            "max_height": null,
            "max_width": null,
            "min_height": null,
            "min_width": null,
            "object_fit": null,
            "object_position": null,
            "order": null,
            "overflow": null,
            "overflow_x": null,
            "overflow_y": null,
            "padding": null,
            "right": null,
            "top": null,
            "visibility": null,
            "width": null
          }
        },
        "3ddedea4e8924700aff98aa1f7e8a15c": {
          "model_module": "@jupyter-widgets/controls",
          "model_name": "DescriptionStyleModel",
          "model_module_version": "1.5.0",
          "state": {
            "_model_module": "@jupyter-widgets/controls",
            "_model_module_version": "1.5.0",
            "_model_name": "DescriptionStyleModel",
            "_view_count": null,
            "_view_module": "@jupyter-widgets/base",
            "_view_module_version": "1.2.0",
            "_view_name": "StyleView",
            "description_width": ""
          }
        }
      }
    }
  },
  "cells": [
    {
      "cell_type": "markdown",
      "metadata": {
        "id": "view-in-github",
        "colab_type": "text"
      },
      "source": [
        "<a href=\"https://colab.research.google.com/github/kelvinsima2/Environmental_Audio_Classification/blob/main/Environmental_Sound_Classification.ipynb\" target=\"_parent\"><img src=\"https://colab.research.google.com/assets/colab-badge.svg\" alt=\"Open In Colab\"/></a>"
      ]
    },
    {
      "cell_type": "markdown",
      "source": [
        "# Preamble"
      ],
      "metadata": {
        "id": "-Vmx6ZT10_lT"
      }
    },
    {
      "cell_type": "code",
      "execution_count": null,
      "metadata": {
        "id": "NLd-sSrB163i",
        "colab": {
          "base_uri": "https://localhost:8080/"
        },
        "outputId": "6b0d5b81-f085-4dc6-f3ab-285cfc9095d3"
      },
      "outputs": [
        {
          "output_type": "stream",
          "name": "stdout",
          "text": [
            "Mounted at /content/drive\n"
          ]
        }
      ],
      "source": [
        "from google.colab import drive\n",
        "drive.mount('/content/drive')"
      ]
    },
    {
      "cell_type": "code",
      "source": [
        "# Import libraries\n",
        "\n",
        "import numpy as np \n",
        "import pandas as pd \n",
        "import numpy as np\n",
        "import pandas as pd\n",
        "import matplotlib.pyplot as plt\n",
        "import seaborn as sns\n",
        "import soundfile as sf\n",
        "import os, random, librosa\n",
        "from tqdm.auto import tqdm\n",
        "from IPython import display\n",
        "import tensorflow as tf\n",
        "from tensorflow.keras import layers, models, utils, callbacks\n",
        "from keras.preprocessing.image import ImageDataGenerator\n",
        "sns.set_style('darkgrid')\n",
        "\n",
        "import os\n",
        "import matplotlib.pylab as plt\n",
        "\n",
        "from glob import glob\n",
        "\n",
        "import librosa\n",
        "import librosa.display\n",
        "import IPython.display as ipd\n",
        "\n",
        "from itertools import cycle"
      ],
      "metadata": {
        "id": "nSYrUUnl-1ao"
      },
      "execution_count": null,
      "outputs": []
    },
    {
      "cell_type": "markdown",
      "source": [
        "# Converting Audio Files Into Mel Spectograms"
      ],
      "metadata": {
        "id": "aYGL4Gsj_-Um"
      }
    },
    {
      "cell_type": "code",
      "source": [
        "def read_and_pad_sound_wave(filepath, audio_length=(44100*5)):\n",
        "    waveform, sr = sf.read(filepath)\n",
        "    zero_padding = np.zeros([audio_length - len(waveform)])\n",
        "    waveform = np.concatenate([waveform, zero_padding], 0)\n",
        "    return waveform, sr\n",
        "    # uncomment below for wavelet transfrom only\n",
        "    # return waveform \n",
        "\n",
        "def sound_wave_to_mel_spectrogram(sound_wave, sample_rate, spec_h=128, spec_w=128, length=1):\n",
        "    NUM_MELS = spec_h\n",
        "    HOP_LENGTH = int(sample_rate * length / (spec_w - 1)) \n",
        "    mel_spec = librosa.feature.melspectrogram(y=sound_wave, sr=sample_rate, hop_length=HOP_LENGTH, n_mels=NUM_MELS)\n",
        "    mel_spec_db = librosa.amplitude_to_db(mel_spec, ref=np.max)\n",
        "    return mel_spec_db\n",
        "\n",
        "\n"
      ],
      "metadata": {
        "id": "Wz9iSfLYAQoa"
      },
      "execution_count": null,
      "outputs": []
    },
    {
      "cell_type": "code",
      "source": [
        "# uncomment to define wavelet transform function. In this notebook, mel spectograms are used instead\n",
        "\n",
        "# from scipy import signal\n",
        "# def make_cwts(waveform):\n",
        "#   widths = np.arange(1,100)\n",
        "#   cwtmatr = signal.cwt(waveform, signal.ricker, widths)\n",
        "#   cwtmatr_yflip = np.flipud(cwtmatr)\n",
        "#   return cwtmatr, cwtmatr_yflip\n",
        "# filepath = os.path.join(input_dir, parent_list[2])\n",
        "# waveform, sr = sf.read(filepath)\n",
        "# cwtmatr, cwtmatr_yflip = make_cwts(waveform)\n",
        "# fig = plt.subplots(figsize=(8, 7))\n",
        "# img = plt.imshow(cwtmatr_yflip,extent=[0, 5, 1, 20], cmap='plasma', aspect='auto',\n",
        "#            vmax=abs(cwtmatr).max(), vmin=-abs(cwtmatr).max())\n",
        "# plt.axis('off')"
      ],
      "metadata": {
        "id": "w4INi68KpNms"
      },
      "execution_count": null,
      "outputs": []
    },
    {
      "cell_type": "code",
      "source": [
        "# define file paths\n",
        "input_dir = '/content/drive/My Drive/Environmental Project/Audio/44100/'\n",
        "output_dir = '/content/drive/My Drive/Environmental Project/Output/'\n",
        "output_dir_wavelets = '/content/drive/My Drive/Environmental Project/Output-Wavelets/'"
      ],
      "metadata": {
        "id": "G92D-zQAAVQF"
      },
      "execution_count": null,
      "outputs": []
    },
    {
      "cell_type": "code",
      "source": [
        "# display some file names\n",
        "parent_list = os.listdir(input_dir)\n",
        "for i in range(10):\n",
        "    print(parent_list[i])"
      ],
      "metadata": {
        "colab": {
          "base_uri": "https://localhost:8080/"
        },
        "id": "61E7o5A1BD0x",
        "outputId": "9e5c5468-2427-4cfc-e2f0-e302adb4718d"
      },
      "execution_count": null,
      "outputs": [
        {
          "output_type": "stream",
          "name": "stdout",
          "text": [
            "3-152020-B-36.wav\n",
            "3-152997-A-26.wav\n",
            "3-154439-A-17.wav\n",
            "3-154378-A-30.wav\n",
            "3-152039-A-3.wav\n",
            "3-151269-A-35.wav\n",
            "3-154758-A-44.wav\n",
            "3-151273-A-35.wav\n",
            "3-151255-A-28.wav\n",
            "3-152912-A-26.wav\n"
          ]
        }
      ]
    },
    {
      "cell_type": "code",
      "source": [
        "SIZE = 256\n",
        "BATCH_SIZE = 32\n",
        "\n",
        "for filename in tqdm(os.listdir(input_dir)):\n",
        "    if \"wav\" in filename:\n",
        "        file_path = os.path.join(input_dir, filename)\n",
        "        target_dir = 'class_' + filename[:-4].split('-')[3]             \n",
        "        dist_dir = os.path.join(output_dir, target_dir)\n",
        "        file_dist_path = os.path.join(dist_dir, filename)\n",
        "        if not os.path.exists(file_dist_path + '.png'):\n",
        "            if not os.path.exists(dist_dir):\n",
        "                os.mkdir(dist_dir)                \n",
        "            S_db_mel = sound_wave_to_mel_spectrogram(*read_and_pad_sound_wave(file_path))\n",
        "            fig, ax = plt.subplots(figsize=(10, 5))\n",
        "            # Plot the mel spectogram\n",
        "            img = librosa.display.specshow(S_db_mel,\n",
        "                              x_axis='time',\n",
        "                              y_axis='log',\n",
        "                              ax=ax)\n",
        "            plt.axis('off')\n",
        "            fig.savefig(f'{file_dist_path}.png', dpi=fig.dpi)\n",
        "            plt.close()\n",
        "\n",
        "\n",
        "# for filename in tqdm(os.listdir(input_dir)):\n",
        "#     if \"wav\" in filename:\n",
        "#         file_path = os.path.join(input_dir, filename)\n",
        "#         target_dir = 'class_' + filename[:-4].split('-')[3]             \n",
        "#         dist_dir = os.path.join(output_dir_wavelets, target_dir)\n",
        "#         file_dist_path = os.path.join(dist_dir, filename)\n",
        "#         if not os.path.exists(file_dist_path + '.png'):\n",
        "#             if not os.path.exists(dist_dir):\n",
        "#                 os.mkdir(dist_dir)     \n",
        "#             waveform = read_and_pad_sound_wave(file_path)           \n",
        "#             cwtmatr, cwtmatr_yflip = make_cwts(waveform)\n",
        "#             fig = plt.subplots(figsize=(8, 7))\n",
        "#             img = plt.imshow(cwtmatr_yflip,extent=[0, 5, 1, 10], cmap='plasma', aspect='auto',\n",
        "#                   vmax=abs(cwtmatr).max(), vmin=-abs(cwtmatr).max())\n",
        "#             plt.axis('off')\n",
        "#             plt.savefig(f'{file_dist_path}.png')\n",
        "#             plt.close()"
      ],
      "metadata": {
        "id": "EC5RworIBGjE",
        "colab": {
          "base_uri": "https://localhost:8080/",
          "height": 49,
          "referenced_widgets": [
            "98f9d88e67d647e699d122095deedf4b",
            "4f715522e9644e5f982ff6de4ac09ca7",
            "4b484fb16c4040c08b65afdb89316fbc",
            "2ab2767b78474c75b33c66c030e4ab88",
            "11d705432cd0425f8e0c068b7bb39bfa",
            "81761c0aaf064bcaa8fcd0b6db855402",
            "f48c7b66c04c4b59884313dccbdb06f3",
            "abedb7d214e547718a9cd471c2919324",
            "27010c5e03d64995aef404e5d962a071",
            "7ae5e6d0c3d6419da1abcd3f5eed2176",
            "3ddedea4e8924700aff98aa1f7e8a15c"
          ]
        },
        "outputId": "868450ae-a67b-415f-8a51-24c0b243d6df"
      },
      "execution_count": null,
      "outputs": [
        {
          "output_type": "display_data",
          "data": {
            "text/plain": [
              "  0%|          | 0/2000 [00:00<?, ?it/s]"
            ],
            "application/vnd.jupyter.widget-view+json": {
              "version_major": 2,
              "version_minor": 0,
              "model_id": "98f9d88e67d647e699d122095deedf4b"
            }
          },
          "metadata": {}
        }
      ]
    },
    {
      "cell_type": "markdown",
      "source": [
        "# Split Data into Training, Validation and Test Sets"
      ],
      "metadata": {
        "id": "3J90V5ek17sQ"
      }
    },
    {
      "cell_type": "code",
      "source": [
        "train_dataset = tf.keras.preprocessing.image_dataset_from_directory(\n",
        "                                             batch_size=BATCH_SIZE,\n",
        "                                             validation_split=0.2,\n",
        "                                             directory=output_dir,\n",
        "                                             shuffle=True,\n",
        "                                             color_mode='rgb',\n",
        "                                             image_size=(SIZE, SIZE),\n",
        "                                             subset=\"training\",\n",
        "                                             seed=0,\n",
        "                                             label_mode = 'categorical');\n",
        "\n",
        "validation_dataset = tf.keras.preprocessing.image_dataset_from_directory(\n",
        "                                             batch_size=BATCH_SIZE,\n",
        "                                             validation_split=0.2,\n",
        "                                             directory=output_dir,\n",
        "                                             shuffle=True,\n",
        "                                             color_mode='rgb',\n",
        "                                             image_size=(SIZE, SIZE),\n",
        "                                             subset=\"validation\",\n",
        "                                             seed=0,\n",
        "                                             label_mode = 'categorical');"
      ],
      "metadata": {
        "colab": {
          "base_uri": "https://localhost:8080/"
        },
        "id": "-haDV9dkBRn8",
        "outputId": "fa070bbc-1902-45c5-e8f1-b7a65129cbf5"
      },
      "execution_count": null,
      "outputs": [
        {
          "output_type": "stream",
          "name": "stdout",
          "text": [
            "Found 2000 files belonging to 50 classes.\n",
            "Using 1600 files for training.\n",
            "Found 2000 files belonging to 50 classes.\n",
            "Using 400 files for validation.\n"
          ]
        }
      ]
    },
    {
      "cell_type": "code",
      "source": [
        "# Obtain class names from training data. It is worth noting that they are presented in alphabetical order. This is useful during model testing.\n",
        "class_names = train_dataset.class_names"
      ],
      "metadata": {
        "id": "1MnpR_104_nY"
      },
      "execution_count": null,
      "outputs": []
    },
    {
      "cell_type": "code",
      "source": [
        "# Display shape of training set\n",
        "train_dataset.element_spec"
      ],
      "metadata": {
        "colab": {
          "base_uri": "https://localhost:8080/"
        },
        "id": "7wnGfDGe5GvC",
        "outputId": "a9c40601-e984-4d88-e56b-df95f4eb4314"
      },
      "execution_count": null,
      "outputs": [
        {
          "output_type": "execute_result",
          "data": {
            "text/plain": [
              "(TensorSpec(shape=(None, 256, 256, 3), dtype=tf.float32, name=None),\n",
              " TensorSpec(shape=(None, 50), dtype=tf.float32, name=None))"
            ]
          },
          "metadata": {},
          "execution_count": 11
        }
      ]
    },
    {
      "cell_type": "code",
      "source": [
        "val_batches = tf.data.experimental.cardinality(validation_dataset)\n",
        "test_dataset = validation_dataset.take(val_batches // 5)\n",
        "validation_dataset = validation_dataset.skip(val_batches // 5)"
      ],
      "metadata": {
        "id": "3CptPi8BGfkX"
      },
      "execution_count": null,
      "outputs": []
    },
    {
      "cell_type": "code",
      "source": [
        "print('Number of validation batches: %d' % tf.data.experimental.cardinality(validation_dataset))\n",
        "print('Number of test batches: %d' % tf.data.experimental.cardinality(test_dataset))"
      ],
      "metadata": {
        "colab": {
          "base_uri": "https://localhost:8080/"
        },
        "id": "kmJna-P4GkYO",
        "outputId": "de9193b2-ab16-4821-d5bb-716fa7110841"
      },
      "execution_count": null,
      "outputs": [
        {
          "output_type": "stream",
          "name": "stdout",
          "text": [
            "Number of validation batches: 11\n",
            "Number of test batches: 2\n"
          ]
        }
      ]
    },
    {
      "cell_type": "code",
      "source": [
        "# Use buffered prefetching to load images from disk without having I/O become blocking. This improves performance.\n",
        "AUTOTUNE = tf.data.AUTOTUNE\n",
        "\n",
        "train_dataset = train_dataset.prefetch(buffer_size=AUTOTUNE)\n",
        "validation_dataset = validation_dataset.prefetch(buffer_size=AUTOTUNE)\n",
        "test_dataset = test_dataset.prefetch(buffer_size=AUTOTUNE)"
      ],
      "metadata": {
        "id": "6k-aHNttGmWe"
      },
      "execution_count": null,
      "outputs": []
    },
    {
      "cell_type": "markdown",
      "source": [
        "# Model Development and Evaluation"
      ],
      "metadata": {
        "id": "5zODzEGj5piv"
      }
    },
    {
      "cell_type": "code",
      "source": [
        "# Use the inception preprocessing function to rescale pixel values\n",
        "preprocess_input = tf.keras.applications.inception_v3.preprocess_input"
      ],
      "metadata": {
        "id": "jxmwW0fS511s"
      },
      "execution_count": null,
      "outputs": []
    },
    {
      "cell_type": "code",
      "source": [
        "# Create the base model from the pre-trained model Inception V3\n",
        "IMG_SIZE = (256, 256)\n",
        "IMG_SHAPE = IMG_SIZE + (3,)\n",
        "base_model = tf.keras.applications.inception_v3.InceptionV3(input_shape=IMG_SHAPE,\n",
        "                                               include_top=False,\n",
        "                                               weights='imagenet')\n",
        "\n",
        "# For freezing the layer we make use of layer.trainable = False\n",
        "# means that its internal state will not change during training.\n",
        "# model's trainable weights will not be updated during fit(),\n",
        "# and also its state updates will not run.\n",
        "base_model.trainable=False\n",
        "\n",
        "# Create Tensorflow functional model\n",
        "inputs = tf.keras.Input(shape=IMG_SHAPE)\n",
        "x = preprocess_input(inputs)\n",
        "x = base_model(x, training=False)\n",
        "x = tf.keras.layers.BatchNormalization(renorm=True)(x)\n",
        "x = tf.keras.layers.GlobalAveragePooling2D()(x)\n",
        "x = tf.keras.layers.Dropout(0.5)(x)\n",
        "# x = tf.keras.layers.Dense(150, activation='relu')(x)\n",
        "# The output layer has 50 outputs representing the number of classes in the image dataset.\n",
        "outputs = tf.keras.layers.Dense(50, activation='softmax')(x)\n",
        "model = tf.keras.Model(inputs, outputs)"
      ],
      "metadata": {
        "id": "BdiD2xknHK_1"
      },
      "execution_count": null,
      "outputs": []
    },
    {
      "cell_type": "code",
      "source": [
        "# categorical cross entropy is taken since its used as a loss function for\n",
        "# multi-class classification problems where there are two or more output labels.\n",
        "# using Adam optimizer for better performance\n",
        "model.compile(optimizer='Adam',loss='categorical_crossentropy',metrics=['accuracy'])"
      ],
      "metadata": {
        "id": "PDg98vPV8cpw"
      },
      "execution_count": null,
      "outputs": []
    },
    {
      "cell_type": "code",
      "source": [
        "# Get model summary\n",
        "model.summary()"
      ],
      "metadata": {
        "colab": {
          "base_uri": "https://localhost:8080/"
        },
        "id": "oSoH-tYZHi91",
        "outputId": "ef1bc6a7-b234-4731-f6a5-ad5ef46eb075"
      },
      "execution_count": null,
      "outputs": [
        {
          "output_type": "stream",
          "name": "stdout",
          "text": [
            "Model: \"model_13\"\n",
            "_________________________________________________________________\n",
            " Layer (type)                Output Shape              Param #   \n",
            "=================================================================\n",
            " input_28 (InputLayer)       [(None, 256, 256, 3)]     0         \n",
            "                                                                 \n",
            " tf.math.truediv_13 (TFOpLam  (None, 256, 256, 3)      0         \n",
            " bda)                                                            \n",
            "                                                                 \n",
            " tf.math.subtract_13 (TFOpLa  (None, 256, 256, 3)      0         \n",
            " mbda)                                                           \n",
            "                                                                 \n",
            " inception_v3 (Functional)   (None, 6, 6, 2048)        21802784  \n",
            "                                                                 \n",
            " batch_normalization_1329 (B  (None, 6, 6, 2048)       14336     \n",
            " atchNormalization)                                              \n",
            "                                                                 \n",
            " global_average_pooling2d_13  (None, 2048)             0         \n",
            "  (GlobalAveragePooling2D)                                       \n",
            "                                                                 \n",
            " dropout_13 (Dropout)        (None, 2048)              0         \n",
            "                                                                 \n",
            " dense_22 (Dense)            (None, 50)                102450    \n",
            "                                                                 \n",
            "=================================================================\n",
            "Total params: 21,919,570\n",
            "Trainable params: 106,546\n",
            "Non-trainable params: 21,813,024\n",
            "_________________________________________________________________\n"
          ]
        }
      ]
    },
    {
      "cell_type": "code",
      "source": [
        "# early stopping call back\n",
        "early = tf.keras.callbacks.EarlyStopping( patience=10,\n",
        "                                          min_delta=0.001,\n",
        "                                          restore_best_weights=True)"
      ],
      "metadata": {
        "id": "Wr17WTRP8sZX"
      },
      "execution_count": null,
      "outputs": []
    },
    {
      "cell_type": "code",
      "source": [
        "# Train model using GPU\n",
        "with tf.device('/device:GPU:0'):\n",
        "  history = model.fit(train_dataset,\n",
        "                    epochs=10,\n",
        "                    validation_data=validation_dataset,\n",
        "                    callbacks = [early])"
      ],
      "metadata": {
        "colab": {
          "base_uri": "https://localhost:8080/"
        },
        "id": "4ikC4U4r8uG_",
        "outputId": "a51786e5-609a-4df4-e49b-dc8a51464b99"
      },
      "execution_count": null,
      "outputs": [
        {
          "output_type": "stream",
          "name": "stdout",
          "text": [
            "Epoch 1/10\n",
            "50/50 [==============================] - 9s 77ms/step - loss: 3.6604 - accuracy: 0.1163 - val_loss: 2.6785 - val_accuracy: 0.3155\n",
            "Epoch 2/10\n",
            "50/50 [==============================] - 3s 46ms/step - loss: 2.2382 - accuracy: 0.4094 - val_loss: 2.0802 - val_accuracy: 0.4167\n",
            "Epoch 3/10\n",
            "50/50 [==============================] - 3s 46ms/step - loss: 1.5621 - accuracy: 0.5844 - val_loss: 1.8081 - val_accuracy: 0.4911\n",
            "Epoch 4/10\n",
            "50/50 [==============================] - 3s 47ms/step - loss: 1.1900 - accuracy: 0.6831 - val_loss: 1.6856 - val_accuracy: 0.5179\n",
            "Epoch 5/10\n",
            "50/50 [==============================] - 3s 47ms/step - loss: 0.9162 - accuracy: 0.7681 - val_loss: 1.5478 - val_accuracy: 0.5714\n",
            "Epoch 6/10\n",
            "50/50 [==============================] - 3s 46ms/step - loss: 0.7228 - accuracy: 0.8200 - val_loss: 1.5277 - val_accuracy: 0.5923\n",
            "Epoch 7/10\n",
            "50/50 [==============================] - 3s 46ms/step - loss: 0.5835 - accuracy: 0.8581 - val_loss: 1.5066 - val_accuracy: 0.5982\n",
            "Epoch 8/10\n",
            "50/50 [==============================] - 2s 43ms/step - loss: 0.4926 - accuracy: 0.8800 - val_loss: 1.5709 - val_accuracy: 0.6042\n",
            "Epoch 9/10\n",
            "50/50 [==============================] - 2s 43ms/step - loss: 0.4233 - accuracy: 0.9000 - val_loss: 1.5446 - val_accuracy: 0.5982\n",
            "Epoch 10/10\n",
            "50/50 [==============================] - 3s 44ms/step - loss: 0.3568 - accuracy: 0.9194 - val_loss: 1.5892 - val_accuracy: 0.5952\n"
          ]
        }
      ]
    },
    {
      "cell_type": "code",
      "source": [
        "# Plot accuracy and loss graphs\n",
        "acc = history.history['accuracy']\n",
        "val_acc = history.history['val_accuracy']\n",
        "\n",
        "loss = history.history['loss']\n",
        "val_loss = history.history['val_loss']\n",
        "\n",
        "plt.figure(figsize=(8, 8))\n",
        "plt.subplot(2, 1, 1)\n",
        "plt.plot(acc, label='Training Accuracy')\n",
        "plt.plot(val_acc, label='Validation Accuracy')\n",
        "plt.legend(loc='lower right')\n",
        "plt.ylabel('Accuracy')\n",
        "plt.ylim([min(plt.ylim()),1])\n",
        "plt.title('Training and Validation Accuracy')\n",
        "\n",
        "plt.subplot(2, 1, 2)\n",
        "plt.plot(loss, label='Training Loss')\n",
        "plt.plot(val_loss, label='Validation Loss')\n",
        "plt.legend(loc='upper right')\n",
        "plt.ylabel('Cross Entropy')\n",
        "plt.ylim([0,3.0])\n",
        "plt.title('Training and Validation Loss')\n",
        "plt.xlabel('epoch')\n",
        "plt.show()"
      ],
      "metadata": {
        "colab": {
          "base_uri": "https://localhost:8080/",
          "height": 513
        },
        "id": "vt8HAivECCd-",
        "outputId": "a2839618-b4fe-4242-ce17-b9350dbf7c2a"
      },
      "execution_count": null,
      "outputs": [
        {
          "output_type": "display_data",
          "data": {
            "text/plain": [
              "<Figure size 576x576 with 2 Axes>"
            ],
            "image/png": "[encoded data removed]"
          },
          "metadata": {}
        }
      ]
    },
    {
      "cell_type": "code",
      "source": [
        "# Evaluate model on test set\n",
        "test_loss, test_accuracy = model.evaluate(test_dataset)"
      ],
      "metadata": {
        "colab": {
          "base_uri": "https://localhost:8080/"
        },
        "id": "v0BuhUKVG0Ri",
        "outputId": "3600c061-c209-4113-cafd-28e1c4ddb86a"
      },
      "execution_count": null,
      "outputs": [
        {
          "output_type": "stream",
          "name": "stdout",
          "text": [
            "2/2 [==============================] - 0s 33ms/step - loss: 1.7358 - accuracy: 0.5938\n"
          ]
        }
      ]
    }
  ]
}